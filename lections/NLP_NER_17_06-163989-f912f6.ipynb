{
  "cells": [
    {
      "cell_type": "markdown",
      "metadata": {
        "id": "yM08hGUsX8Q4"
      },
      "source": [
        "# Named Entity Recognition\n",
        "\n",
        "В этом ноутбуке посмотрим на готовые инструменты для распознавания именованных сущностей."
      ]
    },
    {
      "cell_type": "markdown",
      "metadata": {
        "id": "dx0cBjXBX8Q8"
      },
      "source": [
        "# 1. Russian Language"
      ]
    },
    {
      "cell_type": "markdown",
      "metadata": {
        "id": "2s1qa29xVmFd"
      },
      "source": []
    },
    {
      "cell_type": "code",
      "execution_count": 1,
      "metadata": {
        "id": "DMRSJyI9olir"
      },
      "outputs": [],
      "source": [
        "import warnings\n",
        "warnings.filterwarnings(\"ignore\")"
      ]
    },
    {
      "cell_type": "markdown",
      "metadata": {
        "id": "jMCJKVMNX8RG"
      },
      "source": [
        "## Slovnet\n",
        "\n",
        "[Slovnet](https://habr.com/ru/post/516098/) — проект по обучению нейросетевых моделей для обработки естественного русского языка. В библиотеке собраны качественные компактные модели для извлечения именованных сущностей, разбора морфологии и синтаксиса."
      ]
    },
    {
      "cell_type": "markdown",
      "metadata": {
        "id": "9RlJKpYFX8RG"
      },
      "source": [
        "[Гитхаб](https://github.com/natasha/slovnet) проекта."
      ]
    },
    {
      "cell_type": "code",
      "execution_count": 2,
      "metadata": {
        "colab": {
          "base_uri": "https://localhost:8080/"
        },
        "id": "USKZed3nX8RG",
        "outputId": "458a192e-a258-4ab6-e4e0-a3d962c30a83"
      },
      "outputs": [
        {
          "name": "stdout",
          "output_type": "stream",
          "text": [
            "Requirement already satisfied: ipymarkup in ./.venv/lib/python3.12/site-packages (0.9.0)\n",
            "Requirement already satisfied: intervaltree>=3 in ./.venv/lib/python3.12/site-packages (from ipymarkup) (3.1.0)\n",
            "Requirement already satisfied: sortedcontainers<3.0,>=2.0 in ./.venv/lib/python3.12/site-packages (from intervaltree>=3->ipymarkup) (2.4.0)\n",
            "Note: you may need to restart the kernel to use updated packages.\n",
            "Requirement already satisfied: navec in ./.venv/lib/python3.12/site-packages (0.10.0)\n",
            "Requirement already satisfied: numpy in ./.venv/lib/python3.12/site-packages (from navec) (1.26.4)\n",
            "Note: you may need to restart the kernel to use updated packages.\n",
            "Requirement already satisfied: slovnet in ./.venv/lib/python3.12/site-packages (0.6.0)\n",
            "Requirement already satisfied: numpy in ./.venv/lib/python3.12/site-packages (from slovnet) (1.26.4)\n",
            "Requirement already satisfied: razdel in ./.venv/lib/python3.12/site-packages (from slovnet) (0.5.0)\n",
            "Requirement already satisfied: navec in ./.venv/lib/python3.12/site-packages (from slovnet) (0.10.0)\n",
            "Note: you may need to restart the kernel to use updated packages.\n"
          ]
        }
      ],
      "source": [
        "%pip install ipymarkup\n",
        "%pip install navec\n",
        "%pip install slovnet"
      ]
    },
    {
      "cell_type": "code",
      "execution_count": 3,
      "metadata": {
        "id": "lRKYsTI7X8RH"
      },
      "outputs": [],
      "source": [
        "from navec import Navec\n",
        "from slovnet import NER"
      ]
    },
    {
      "cell_type": "code",
      "execution_count": 4,
      "metadata": {
        "id": "Qh7054ugX8RH"
      },
      "outputs": [],
      "source": [
        "text = '''Впервые в мире нейросеть от ПАО Сбербанк написала сборник рассказов вместе с писателем Павлом Пепперштейном, который выпустило издательство Individuum\n",
        "В издательстве Individuum вышел сборник рассказов «Пытаясь проснуться», написанных писателем и художником Павлом Пепперштейном и генеративной нейросетью ruGPT-3, разработанной командой SberDevices. Бумажную книгу уже сейчас можно заказать в интернет-магазине издательства, а на полках книжных магазинов она появится до конца мая. Электронная версия с сегодняшнего дня доступна эксклюзивно на «Букмейте».'''"
      ]
    },
    {
      "cell_type": "code",
      "execution_count": 5,
      "metadata": {
        "colab": {
          "base_uri": "https://localhost:8080/",
          "height": 106
        },
        "id": "0m3HOaNAsE0z",
        "outputId": "3cac0088-1da7-450b-f39f-e173eaf66c23"
      },
      "outputs": [
        {
          "data": {
            "text/plain": [
              "'Впервые в мире нейросеть от ПАО Сбербанк написала сборник рассказов вместе с писателем Павлом Пепперштейном, который выпустило издательство Individuum\\nВ издательстве Individuum вышел сборник рассказов «Пытаясь проснуться», написанных писателем и художником Павлом Пепперштейном и генеративной нейросетью ruGPT-3, разработанной командой SberDevices. Бумажную книгу уже сейчас можно заказать в интернет-магазине издательства, а на полках книжных магазинов она появится до конца мая. Электронная версия с сегодняшнего дня доступна эксклюзивно на «Букмейте».'"
            ]
          },
          "execution_count": 5,
          "metadata": {},
          "output_type": "execute_result"
        }
      ],
      "source": [
        "text"
      ]
    },
    {
      "cell_type": "markdown",
      "metadata": {
        "id": "l9PJY-TTX8RI"
      },
      "source": [
        "Для того, чтобы выявить в тексте именованные сущности воспользуемся предобученными эмбеддингами из библиотеки [Navec](https://github.com/natasha/navec), которые мы затем будем использовать в качестве input'а для предобученной модели из Slovnet.\n",
        "\n",
        "Библиотека [Navec](https://natasha.github.io/navec/) — часть проекта [Natasha](https://github.com/natasha), коллекция предобученных эмбеддингов для русского языка."
      ]
    },
    {
      "cell_type": "markdown",
      "metadata": {
        "id": "sxXUfWR3X8RI"
      },
      "source": [
        "Скачаем предобученную [модель](https://storage.yandexcloud.net/natasha-navec/packs/navec_news_v1_1B_250K_300d_100q.tar) `'navec_news_v1_1B_250K_300d_100q.tar'`."
      ]
    },
    {
      "cell_type": "code",
      "execution_count": 6,
      "metadata": {
        "colab": {
          "base_uri": "https://localhost:8080/"
        },
        "id": "-Q6rNycMA0yq",
        "outputId": "5c8670bb-d867-4c0a-99f1-7841e4123a2e"
      },
      "outputs": [
        {
          "name": "stdout",
          "output_type": "stream",
          "text": [
            "--2024-06-17 21:04:33--  https://storage.yandexcloud.net/natasha-slovnet/packs/slovnet_ner_news_v1.tar\n",
            "Распознаётся storage.yandexcloud.net (storage.yandexcloud.net)… 213.180.193.243\n",
            "Подключение к storage.yandexcloud.net (storage.yandexcloud.net)|213.180.193.243|:443... соединение установлено.\n",
            "HTTP-запрос отправлен. Ожидание ответа… 200 OK\n",
            "Длина: 2385920 (2,3M) [application/octet-stream]\n",
            "Сохранение в: «slovnet_ner_news_v1.tar»\n",
            "\n",
            "slovnet_ner_news_v1 100%[===================>]   2,28M  --.-KB/s    за 0,07s   \n",
            "\n",
            "2024-06-17 21:04:34 (31,4 MB/s) - «slovnet_ner_news_v1.tar» сохранён [2385920/2385920]\n",
            "\n",
            "--2024-06-17 21:04:34--  https://storage.yandexcloud.net/natasha-navec/packs/navec_news_v1_1B_250K_300d_100q.tar\n",
            "Распознаётся storage.yandexcloud.net (storage.yandexcloud.net)… 213.180.193.243\n",
            "Подключение к storage.yandexcloud.net (storage.yandexcloud.net)|213.180.193.243|:443... соединение установлено.\n",
            "HTTP-запрос отправлен. Ожидание ответа… 200 OK\n",
            "Длина: 26634240 (25M) [application/x-tar]\n",
            "Сохранение в: «navec_news_v1_1B_250K_300d_100q.tar»\n",
            "\n",
            "navec_news_v1_1B_25 100%[===================>]  25,40M  46,5MB/s    за 0,5s    \n",
            "\n",
            "2024-06-17 21:04:34 (46,5 MB/s) - «navec_news_v1_1B_250K_300d_100q.tar» сохранён [26634240/26634240]\n",
            "\n"
          ]
        }
      ],
      "source": [
        "!wget -O slovnet_ner_news_v1.tar https://storage.yandexcloud.net/natasha-slovnet/packs/slovnet_ner_news_v1.tar\n",
        "!wget -O navec_news_v1_1B_250K_300d_100q.tar https://storage.yandexcloud.net/natasha-navec/packs/navec_news_v1_1B_250K_300d_100q.tar"
      ]
    },
    {
      "cell_type": "code",
      "execution_count": null,
      "metadata": {
        "id": "4rz0XlZcX8RI"
      },
      "outputs": [],
      "source": [
        "navec = Navec.load('navec_news_v1_1B_250K_300d_100q.tar')"
      ]
    },
    {
      "cell_type": "markdown",
      "metadata": {
        "id": "UzT5WD8kX8RJ"
      },
      "source": [
        "А теперь, используя полученные эмбеддинги найдем в тексте именованые сущности с помощью предобученной модели  slovnet."
      ]
    },
    {
      "cell_type": "code",
      "execution_count": null,
      "metadata": {
        "id": "0dwOcS6zX8RJ"
      },
      "outputs": [],
      "source": [
        "ner = NER.load('slovnet_ner_news_v1.tar')"
      ]
    },
    {
      "cell_type": "code",
      "execution_count": null,
      "metadata": {
        "id": "w3Vdrb5_X8RJ"
      },
      "outputs": [],
      "source": [
        "ner.navec(navec);"
      ]
    },
    {
      "cell_type": "code",
      "execution_count": null,
      "metadata": {
        "id": "E7I0rC8bX8RJ"
      },
      "outputs": [],
      "source": [
        "markup = ner(text)"
      ]
    },
    {
      "cell_type": "code",
      "execution_count": null,
      "metadata": {
        "colab": {
          "base_uri": "https://localhost:8080/"
        },
        "id": "KpH1EOf8kyVQ",
        "outputId": "1027277e-ddbd-4de2-94a8-3721695356e9"
      },
      "outputs": [],
      "source": [
        "markup"
      ]
    },
    {
      "cell_type": "markdown",
      "metadata": {
        "id": "9QhRBH-UU-vx"
      },
      "source": [
        "**Немного украшательства**\n",
        "\n",
        "Библиотека ipymarkup предназначена для красивой визуализации NER."
      ]
    },
    {
      "cell_type": "code",
      "execution_count": null,
      "metadata": {
        "colab": {
          "base_uri": "https://localhost:8080/",
          "height": 121
        },
        "id": "BYpNBWPfX8RK",
        "outputId": "782575df-7688-4ddf-ad9f-5cbfc3bf96eb"
      },
      "outputs": [],
      "source": [
        "from ipymarkup import show_span_box_markup as show_markup\n",
        "show_markup(markup.text, markup.spans)"
      ]
    },
    {
      "cell_type": "markdown",
      "metadata": {
        "id": "glNXV9W7X8RL"
      },
      "source": [
        "# 2. English Language\n",
        "\n",
        "А что с английским языком? Модели от navec и slovnet обучены для русского языка.\n",
        "\n",
        "Для английского воспользуемся библиотекой [spacy](https://spacy.io/), в которую уже встроен парсер для английского языка: [en_core_web_sm](https://spacy.io/models/en)."
      ]
    },
    {
      "cell_type": "code",
      "execution_count": null,
      "metadata": {
        "id": "yWer_uIrX8RL"
      },
      "outputs": [],
      "source": [
        "#! python -m spacy download en_core_web_sm"
      ]
    },
    {
      "cell_type": "code",
      "execution_count": null,
      "metadata": {
        "id": "nFItBojkX8RL"
      },
      "outputs": [],
      "source": [
        "import spacy\n",
        "from spacy import displacy\n",
        "from collections import Counter\n",
        "import en_core_web_sm"
      ]
    },
    {
      "cell_type": "code",
      "execution_count": null,
      "metadata": {
        "id": "0XDI8ZnCX8RL"
      },
      "outputs": [],
      "source": [
        "nlp = en_core_web_sm.load()"
      ]
    },
    {
      "cell_type": "markdown",
      "metadata": {
        "id": "e8d6Y8nyb_v-"
      },
      "source": [
        "Посмотрим, как работает английский NER из spacy на примере с новостного сайта."
      ]
    },
    {
      "cell_type": "code",
      "execution_count": null,
      "metadata": {
        "id": "zS2U0ztCX8RL"
      },
      "outputs": [],
      "source": [
        "text = '''One day in mid-November, workers at OpenAI got an unexpected assignment: Release a chatbot, fast. The chatbot, an executive announced, would be known as “Chat with GPT 3.5,” and it would be made available free to the public. '''"
      ]
    },
    {
      "cell_type": "code",
      "execution_count": null,
      "metadata": {
        "colab": {
          "base_uri": "https://localhost:8080/"
        },
        "id": "qUQ75lynX8RM",
        "outputId": "6fc44651-363c-4cfe-86d4-4cd7dfe6c7f6"
      },
      "outputs": [],
      "source": [
        "doc = nlp(text)\n",
        "doc"
      ]
    },
    {
      "cell_type": "code",
      "execution_count": null,
      "metadata": {
        "colab": {
          "base_uri": "https://localhost:8080/"
        },
        "id": "nlKrrTFXX8RM",
        "outputId": "64be63f7-a75b-4b1f-eef7-17d292158a24"
      },
      "outputs": [],
      "source": [
        "type(doc)"
      ]
    },
    {
      "cell_type": "code",
      "execution_count": null,
      "metadata": {
        "colab": {
          "base_uri": "https://localhost:8080/"
        },
        "id": "xqmZ6KieZI-l",
        "outputId": "5498798c-b31f-4eb8-ee19-6705a7bb8c47"
      },
      "outputs": [],
      "source": [
        "doc.ents"
      ]
    },
    {
      "cell_type": "code",
      "execution_count": null,
      "metadata": {
        "colab": {
          "base_uri": "https://localhost:8080/"
        },
        "id": "UKMiN7WYX8RM",
        "outputId": "f48cfbbd-8c83-4db8-d1eb-b2086c4bd9eb"
      },
      "outputs": [],
      "source": [
        "type(doc.ents)"
      ]
    },
    {
      "cell_type": "code",
      "execution_count": null,
      "metadata": {
        "colab": {
          "base_uri": "https://localhost:8080/"
        },
        "id": "Zwr5QyRfX8RM",
        "outputId": "cc3cc8d2-3670-46fa-9907-897f013ddad8"
      },
      "outputs": [],
      "source": [
        "[(X.text, X.label_) for X in doc.ents]"
      ]
    },
    {
      "cell_type": "code",
      "execution_count": null,
      "metadata": {
        "colab": {
          "base_uri": "https://localhost:8080/"
        },
        "id": "hE_vcTP0X8RN",
        "outputId": "add37e6c-5e44-453c-a910-7423afdd1842"
      },
      "outputs": [],
      "source": [
        "[(X, X.ent_iob_, X.ent_type_) for X in doc]"
      ]
    },
    {
      "cell_type": "code",
      "execution_count": null,
      "metadata": {
        "colab": {
          "base_uri": "https://localhost:8080/",
          "height": 87
        },
        "id": "Fqk6bRlcX8RN",
        "outputId": "5f2e411b-ef84-4adc-c1c2-59e4d7b4d690"
      },
      "outputs": [],
      "source": [
        "displacy.render(doc, jupyter=True, style='ent')"
      ]
    },
    {
      "cell_type": "markdown",
      "metadata": {
        "id": "Ni7gSK3ZcNlf"
      },
      "source": [
        "А теперь давайте возьмем реальный текст [новости](https://www.nytimes.com/2022/04/21/sports/basketball/nets-celtics-kevin-durant.html) с новостного сайта [NY Times](https://www.nytimes.com) и посмотрим, какие именованные сущности выявит spacy.\n"
      ]
    },
    {
      "cell_type": "markdown",
      "metadata": {
        "id": "aUoZMiFAdUUp"
      },
      "source": [
        "Посмотрим, о ком и о чем эта статья."
      ]
    },
    {
      "cell_type": "code",
      "execution_count": null,
      "metadata": {
        "id": "CoF6X6e6KHF8"
      },
      "outputs": [],
      "source": [
        "ny_bb = 'BOSTON — Kevin Durant had no room. He admitted as much. Whenever he had the ball against the Celtics on Wednesday night, and even when he did not, defenders were crowding his space, shadowing him, draping themselves all over him like Saran wrap. They were on the perimeter, and in the paint, and at the elbow. How was it possible that only five of them were on the court at once? “They’re mucking up actions when I run off stuff,” said Durant, who singled out the Celtics’ Al Horford for “leaving his man to come over and hit me sometimes.” Durant went on: “Just two or three guys hitting me wherever I go. And that’s just the nature of the beast in the playoffs.” It was nearing 11 p.m. as Durant offered up his post-mortem of the Nets’ 114-107 loss to the Celtics in Game 2 of their first-round playoff series, and he did not necessarily seem concerned. In fact, his analysis came off as dispassionate: Here were the facts, and it was his job to remedy the issues as the Nets seek to rebound from their two-games-to-none deficit in the best-of-seven series. It heads to Brooklyn for Game 3 on Saturday night. “It’s on me to just finish it and figure it out,” he said. “I’m not expecting my teammates or the defense to give me anything. I just got to go out there and play.”'"
      ]
    },
    {
      "cell_type": "code",
      "execution_count": null,
      "metadata": {
        "colab": {
          "base_uri": "https://localhost:8080/"
        },
        "id": "l1-SlAkTlMCy",
        "outputId": "96c7dd80-8f3d-40d2-ae25-f29dead8d5cc"
      },
      "outputs": [],
      "source": [
        "print(ny_bb)"
      ]
    },
    {
      "cell_type": "code",
      "execution_count": null,
      "metadata": {
        "colab": {
          "base_uri": "https://localhost:8080/"
        },
        "id": "8xeVWg0NX8RO",
        "outputId": "ecb24312-9b20-443f-83fc-009fce18e83b"
      },
      "outputs": [],
      "source": [
        "article = nlp(ny_bb)\n",
        "len(article.ents)"
      ]
    },
    {
      "cell_type": "code",
      "execution_count": null,
      "metadata": {
        "colab": {
          "base_uri": "https://localhost:8080/"
        },
        "id": "NKA3sG6ZX8RO",
        "outputId": "8eebfedb-e03f-4057-b336-9ba524ff6b92"
      },
      "outputs": [],
      "source": [
        "labels = [x.label_ for x in article.ents]\n",
        "Counter(labels)"
      ]
    },
    {
      "cell_type": "code",
      "execution_count": null,
      "metadata": {
        "colab": {
          "base_uri": "https://localhost:8080/"
        },
        "id": "mOc78q2JX8RO",
        "outputId": "4608fa6f-0e48-499c-a817-ebf4868d862a"
      },
      "outputs": [],
      "source": [
        "items = [x.text for x in article.ents]\n",
        "Counter(items).most_common(20)"
      ]
    },
    {
      "cell_type": "code",
      "execution_count": null,
      "metadata": {
        "colab": {
          "base_uri": "https://localhost:8080/"
        },
        "id": "RDVHr_dkX8RO",
        "outputId": "37ffbb44-22a9-41ac-803b-5e61d8cc33b0"
      },
      "outputs": [],
      "source": [
        "sentences = [x for x in article.sents]\n",
        "print(sentences[3])"
      ]
    },
    {
      "cell_type": "markdown",
      "metadata": {
        "id": "D-TPOGlXdcbA"
      },
      "source": [
        "И конечно красивая разметка."
      ]
    },
    {
      "cell_type": "code",
      "execution_count": null,
      "metadata": {
        "colab": {
          "base_uri": "https://localhost:8080/",
          "height": 367
        },
        "id": "PpbNrdHvX8RP",
        "outputId": "484a0302-f544-43f3-84dc-5e9cad99c1a3"
      },
      "outputs": [],
      "source": [
        "displacy.render(nlp(str(sentences)), jupyter=True, style='ent')"
      ]
    },
    {
      "cell_type": "code",
      "execution_count": null,
      "metadata": {
        "colab": {
          "base_uri": "https://localhost:8080/"
        },
        "id": "YQVKTLfRX8RP",
        "outputId": "f8ea3ab1-f7a1-44e2-c5fa-0018f8fc20f5"
      },
      "outputs": [],
      "source": [
        "[(x.orth_,x.pos_, x.lemma_) for x in [y\n",
        "                                      for y\n",
        "                                      in nlp(str(sentences[3]))\n",
        "                                      if not y.is_stop and y.pos_ != 'PUNCT']]"
      ]
    },
    {
      "cell_type": "code",
      "execution_count": null,
      "metadata": {
        "colab": {
          "base_uri": "https://localhost:8080/"
        },
        "id": "OKrnNo-oX8RP",
        "outputId": "59e44da8-d25f-4833-8fdb-d82407f251a0"
      },
      "outputs": [],
      "source": [
        "print([(x, x.ent_iob_, x.ent_type_) for x in sentences[3]])"
      ]
    },
    {
      "cell_type": "code",
      "execution_count": null,
      "metadata": {
        "colab": {
          "base_uri": "https://localhost:8080/",
          "height": 387
        },
        "id": "t0YmbQ4iX8RP",
        "outputId": "6f6bad62-b95b-4c9b-d9ea-c6d648571e37"
      },
      "outputs": [],
      "source": [
        "displacy.render(article, jupyter=True, style='ent')"
      ]
    },
    {
      "cell_type": "code",
      "execution_count": null,
      "metadata": {
        "id": "3kcRr91bBQyi"
      },
      "outputs": [],
      "source": []
    }
  ],
  "metadata": {
    "colab": {
      "provenance": []
    },
    "kernelspec": {
      "display_name": "Python 3",
      "language": "python",
      "name": "python3"
    },
    "language_info": {
      "codemirror_mode": {
        "name": "ipython",
        "version": 3
      },
      "file_extension": ".py",
      "mimetype": "text/x-python",
      "name": "python",
      "nbconvert_exporter": "python",
      "pygments_lexer": "ipython3",
      "version": "3.12.2"
    },
    "toc-autonumbering": false
  },
  "nbformat": 4,
  "nbformat_minor": 0
}
