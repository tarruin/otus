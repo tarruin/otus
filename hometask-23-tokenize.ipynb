{
 "cells": [
  {
   "cell_type": "code",
   "id": "initial_id",
   "metadata": {
    "collapsed": true,
    "ExecuteTime": {
     "end_time": "2024-09-02T07:07:39.100042Z",
     "start_time": "2024-09-02T07:07:38.829368Z"
    }
   },
   "source": [
    "import asyncio\n",
    "import json\n",
    "import logging\n",
    "import random\n",
    "import sys\n",
    "from datetime import datetime, timedelta\n",
    "\n",
    "import pandas as pd\n",
    "import pytz\n",
    "from telethon.sync import TelegramClient\n",
    "from telethon.tl.functions.messages import GetHistoryRequest"
   ],
   "outputs": [],
   "execution_count": 1
  },
  {
   "metadata": {
    "ExecuteTime": {
     "end_time": "2024-09-02T07:07:39.573279Z",
     "start_time": "2024-09-02T07:07:39.569826Z"
    }
   },
   "cell_type": "code",
   "source": [
    "utc = pytz.UTC\n",
    "logger = logging.getLogger()\n",
    "\n",
    "\n",
    "def init_logger():\n",
    "    logger.setLevel(logging.INFO)\n",
    "    formatter = logging.Formatter('%(asctime)s | %(levelname)s\\t| %(message)s')\n",
    "    ch = logging.StreamHandler(sys.stdout)\n",
    "    ch.setFormatter(formatter)\n",
    "    logger.addHandler(ch)\n",
    "\n",
    "\n",
    "init_logger()"
   ],
   "id": "6e7dc58cb0743f20",
   "outputs": [],
   "execution_count": 2
  },
  {
   "metadata": {},
   "cell_type": "markdown",
   "source": "В качестве источника был выбран телеграм-канал новостей Formula1",
   "id": "ce83a942a9db519"
  },
  {
   "metadata": {
    "ExecuteTime": {
     "end_time": "2024-09-02T07:07:50.670272Z",
     "start_time": "2024-09-02T07:07:50.658556Z"
    }
   },
   "cell_type": "code",
   "source": [
    "class MessageParser:\n",
    "    def __init__(self, api_id, api_hash, phone, link):\n",
    "        self.api_id = api_id\n",
    "        self.api_hash = api_hash\n",
    "        self.phone = phone\n",
    "        self.link = link\n",
    "        self.channel = None\n",
    "\n",
    "        self.client = TelegramClient(phone, api_id, api_hash)\n",
    "        self.client.start()\n",
    "\n",
    "    async def init_client(self):\n",
    "        await self.client.connect()\n",
    "        self.channel = await self.client.get_entity(self.link)\n",
    "        return self.channel\n",
    "\n",
    "    @classmethod\n",
    "    def get_text(cls, block: dict) -> str:\n",
    "        text = None\n",
    "        if 'text' in block:\n",
    "            text = block.get('text')\n",
    "        if 'texts' in block:\n",
    "            text = block.get('texts')\n",
    "        if text is None:\n",
    "            return ''\n",
    "        if isinstance(text, str):\n",
    "            return text\n",
    "        if isinstance(text, dict):\n",
    "            return cls.get_text(text)\n",
    "        if isinstance(text, list):\n",
    "            data = [cls.get_text(x) for x in text]\n",
    "            return ' '.join(data)\n",
    "        return ''\n",
    "\n",
    "    async def get_messages(self, date_from: datetime):\n",
    "        all_messages = []\n",
    "        offset_id = 0\n",
    "        limit = 100\n",
    "        target_date = datetime.now(tz=utc)\n",
    "\n",
    "        while date_from < target_date:\n",
    "            history = await self.client(GetHistoryRequest(\n",
    "                peer=self.channel,\n",
    "                offset_id=offset_id,\n",
    "                offset_date=None,\n",
    "                add_offset=0,\n",
    "                limit=limit,\n",
    "                max_id=0,\n",
    "                min_id=0,\n",
    "                hash=0\n",
    "            ))\n",
    "            if not history.messages:\n",
    "                break\n",
    "            target_date = min(list(map(lambda x: x.date, history.messages)))\n",
    "            messages = list(filter(lambda x: x.date >= date_from, history.messages))\n",
    "            for message in messages:\n",
    "                all_messages.append(message.to_dict())\n",
    "            offset_id = messages[len(messages) - 1].id\n",
    "            logger.info(f'parsed {len(messages)} messages till {target_date.strftime(\"%d.%m.%Y\")}')\n",
    "            await asyncio.sleep(random.randint(200, 2000) / 1000)\n",
    "        return all_messages\n",
    "\n",
    "    def parse_message(self, message):\n",
    "        media = message.get('media') or {}\n",
    "        views = message.get('views')\n",
    "        if isinstance(media, str):\n",
    "            media = media.replace(\"'\", '\"')\n",
    "            media = json.loads(media)\n",
    "        webpage = media.get('webpage') or {}\n",
    "        cached_page = webpage.get('cached_page') or {}\n",
    "        blocks = cached_page.get('blocks') or []\n",
    "        title = ' '.join([self.get_text(x) for x in blocks if x['_'] == 'PageBlockTitle'])\n",
    "        data = ' '.join([self.get_text(x) for x in blocks if x['_'] == 'PageBlockParagraph'])\n",
    "        date = message['date'].isoformat()\n",
    "        return {'title': title, 'text': data, 'date': date, 'views': views}\n",
    "\n",
    "    async def close(self):\n",
    "        return await self.client.disconnect()\n",
    "\n",
    "    async def __aenter__(self):\n",
    "        await self.init_client()\n",
    "        return self\n",
    "\n",
    "    async def __aexit__(self, exc_type, exc_val, exc_tb):\n",
    "        await self.close()"
   ],
   "id": "e1c68d01b0d44334",
   "outputs": [],
   "execution_count": 3
  },
  {
   "metadata": {
    "ExecuteTime": {
     "end_time": "2024-09-02T07:10:02.171982Z",
     "start_time": "2024-09-02T07:09:51.915307Z"
    }
   },
   "cell_type": "code",
   "source": [
    "async with MessageParser(\n",
    "        api_id=...,\n",
    "        api_hash='...',\n",
    "        phone='...',\n",
    "        link='https://t.me/formula_1_news'\n",
    ") as parser:\n",
    "    date_from = datetime.now(tz=utc) - timedelta(days=30)\n",
    "    all_messages = await parser.get_messages(date_from)\n",
    "\n",
    "    msg_data = []\n",
    "    for message in all_messages:\n",
    "        data = parser.parse_message(message)\n",
    "        msg_data.append(data)\n",
    "    with open('messages.json', 'w+') as outfile:\n",
    "        json.dump(msg_data, outfile, ensure_ascii=False, indent=4)"
   ],
   "id": "40d98ff66e8b93a4",
   "outputs": [
    {
     "name": "stdout",
     "output_type": "stream",
     "text": [
      "2024-09-02 10:09:51,919 | INFO\t| Connecting to 149.154.167.51:443/TcpFull...\n",
      "2024-09-02 10:09:52,029 | INFO\t| Connection to 149.154.167.51:443/TcpFull complete!\n"
     ]
    },
    {
     "name": "stderr",
     "output_type": "stream",
     "text": [
      "/var/folders/h0/z7lpdx1d2l5gfkb9nt4d_rjc0000gn/T/ipykernel_38794/172717287.py:10: RuntimeWarning: coroutine 'AuthMethods._start' was never awaited\n",
      "  self.client.start()\n",
      "RuntimeWarning: Enable tracemalloc to get the object allocation traceback\n"
     ]
    },
    {
     "name": "stdout",
     "output_type": "stream",
     "text": [
      "2024-09-02 10:09:53,579 | INFO\t| parsed 100 messages till 29.08.2024\n",
      "2024-09-02 10:09:55,111 | INFO\t| parsed 100 messages till 25.08.2024\n",
      "2024-09-02 10:09:57,196 | INFO\t| parsed 100 messages till 21.08.2024\n",
      "2024-09-02 10:09:59,783 | INFO\t| parsed 100 messages till 11.08.2024\n",
      "2024-09-02 10:10:00,919 | INFO\t| parsed 80 messages till 01.08.2024\n",
      "2024-09-02 10:10:02,167 | INFO\t| Disconnecting from 149.154.167.51:443/TcpFull...\n",
      "2024-09-02 10:10:02,168 | INFO\t| Disconnection from 149.154.167.51:443/TcpFull complete!\n"
     ]
    }
   ],
   "execution_count": 5
  },
  {
   "metadata": {},
   "cell_type": "markdown",
   "source": "Разделяем на исходные данные (text) и целевую переменную (views)",
   "id": "7bb1c8adaea2b499"
  },
  {
   "metadata": {
    "ExecuteTime": {
     "end_time": "2024-09-02T07:18:13.670555Z",
     "start_time": "2024-09-02T07:18:13.666079Z"
    }
   },
   "cell_type": "code",
   "source": [
    "data = pd.DataFrame(data=msg_data)\n",
    "data = data.drop(columns=['title', 'date'])\n",
    "target = 'views'\n",
    "X = data['text']\n",
    "y = data[target]\n",
    "data.head()"
   ],
   "id": "ddbec8c7cb3c39db",
   "outputs": [
    {
     "data": {
      "text/plain": [
       "                                                text  views\n",
       "0  Гран При Италии стал очередным этапом сезона, ...    708\n",
       "1  Макс Ферстаппен финишировал шестым в Монце, по...    729\n",
       "2  После финиша Гран При Италии в Pirelli опублик...    725\n",
       "3  Руководитель автоспортивного подразделения Pir...    720\n",
       "4  Даниэль Риккардо получил два штрафа во время г...    673"
      ],
      "text/html": [
       "<div>\n",
       "<style scoped>\n",
       "    .dataframe tbody tr th:only-of-type {\n",
       "        vertical-align: middle;\n",
       "    }\n",
       "\n",
       "    .dataframe tbody tr th {\n",
       "        vertical-align: top;\n",
       "    }\n",
       "\n",
       "    .dataframe thead th {\n",
       "        text-align: right;\n",
       "    }\n",
       "</style>\n",
       "<table border=\"1\" class=\"dataframe\">\n",
       "  <thead>\n",
       "    <tr style=\"text-align: right;\">\n",
       "      <th></th>\n",
       "      <th>text</th>\n",
       "      <th>views</th>\n",
       "    </tr>\n",
       "  </thead>\n",
       "  <tbody>\n",
       "    <tr>\n",
       "      <th>0</th>\n",
       "      <td>Гран При Италии стал очередным этапом сезона, ...</td>\n",
       "      <td>708</td>\n",
       "    </tr>\n",
       "    <tr>\n",
       "      <th>1</th>\n",
       "      <td>Макс Ферстаппен финишировал шестым в Монце, по...</td>\n",
       "      <td>729</td>\n",
       "    </tr>\n",
       "    <tr>\n",
       "      <th>2</th>\n",
       "      <td>После финиша Гран При Италии в Pirelli опублик...</td>\n",
       "      <td>725</td>\n",
       "    </tr>\n",
       "    <tr>\n",
       "      <th>3</th>\n",
       "      <td>Руководитель автоспортивного подразделения Pir...</td>\n",
       "      <td>720</td>\n",
       "    </tr>\n",
       "    <tr>\n",
       "      <th>4</th>\n",
       "      <td>Даниэль Риккардо получил два штрафа во время г...</td>\n",
       "      <td>673</td>\n",
       "    </tr>\n",
       "  </tbody>\n",
       "</table>\n",
       "</div>"
      ]
     },
     "execution_count": 20,
     "metadata": {},
     "output_type": "execute_result"
    }
   ],
   "execution_count": 20
  },
  {
   "metadata": {
    "ExecuteTime": {
     "end_time": "2024-09-02T07:57:50.323143Z",
     "start_time": "2024-09-02T07:57:50.318051Z"
    }
   },
   "cell_type": "code",
   "source": [
    "from sklearn.model_selection import train_test_split\n",
    "\n",
    "X_train, X_test, y_train, y_test = train_test_split(X, y, random_state=42, test_size=0.3)"
   ],
   "id": "81d61e4f607c1bdf",
   "outputs": [],
   "execution_count": 83
  },
  {
   "metadata": {
    "ExecuteTime": {
     "end_time": "2024-09-02T07:57:50.580740Z",
     "start_time": "2024-09-02T07:57:50.578846Z"
    }
   },
   "cell_type": "code",
   "source": "y_test = y_test.tolist()",
   "id": "19a8d031cab54a7a",
   "outputs": [],
   "execution_count": 84
  },
  {
   "metadata": {
    "ExecuteTime": {
     "end_time": "2024-09-02T08:05:01.310889Z",
     "start_time": "2024-09-02T08:05:01.305337Z"
    }
   },
   "cell_type": "code",
   "source": [
    "import nltk\n",
    "import ssl\n",
    "\n",
    "try:\n",
    "    _create_unverified_https_context = ssl._create_unverified_context\n",
    "except AttributeError:\n",
    "    pass\n",
    "else:\n",
    "    ssl._create_default_https_context = _create_unverified_https_context\n",
    "\n",
    "nltk.download('stopwords')\n",
    "stop_words = nltk.corpus.stopwords.words('russian')"
   ],
   "id": "775cb6daa85ab572",
   "outputs": [
    {
     "name": "stderr",
     "output_type": "stream",
     "text": [
      "[nltk_data] Downloading package stopwords to\n",
      "[nltk_data]     /Users/andrey/nltk_data...\n",
      "[nltk_data]   Package stopwords is already up-to-date!\n"
     ]
    }
   ],
   "execution_count": 97
  },
  {
   "metadata": {
    "ExecuteTime": {
     "end_time": "2024-09-02T08:05:13.569893Z",
     "start_time": "2024-09-02T08:05:13.531732Z"
    }
   },
   "cell_type": "code",
   "source": [
    "#вычисляем tf-idf\n",
    "from sklearn.feature_extraction.text import TfidfVectorizer\n",
    "\n",
    "# Fit TF-IDF on train texts\n",
    "vectorizer = TfidfVectorizer(max_features=200, norm=None, min_df=1, max_df=0.95, stop_words=stop_words)  # возмем топ 200 слов\n",
    "vectorizer.fit(X_train)\n",
    "\n",
    "# Топ-10 слов\n",
    "vectorizer.get_feature_names_out()[:10]"
   ],
   "id": "f5b41267c247e04b",
   "outputs": [
    {
     "data": {
      "text/plain": [
       "array(['2025', '2026', 'alpine', 'aston', 'audi', 'bull', 'f1', 'ferrari',\n",
       "       'haas', 'martin'], dtype=object)"
      ]
     },
     "execution_count": 98,
     "metadata": {},
     "output_type": "execute_result"
    }
   ],
   "execution_count": 98
  },
  {
   "metadata": {
    "ExecuteTime": {
     "end_time": "2024-09-02T08:05:15.564988Z",
     "start_time": "2024-09-02T08:05:15.509294Z"
    }
   },
   "cell_type": "code",
   "source": [
    "X_train = vectorizer.fit_transform(X_train)\n",
    "X_test = vectorizer.transform(X_test)"
   ],
   "id": "6272311b80de65fd",
   "outputs": [],
   "execution_count": 99
  },
  {
   "metadata": {},
   "cell_type": "markdown",
   "source": "Так как целевая переменная непрерывная, используем регрессию",
   "id": "f776ea01125a0663"
  },
  {
   "metadata": {
    "ExecuteTime": {
     "end_time": "2024-09-02T08:05:17.128799Z",
     "start_time": "2024-09-02T08:05:17.038012Z"
    }
   },
   "cell_type": "code",
   "source": [
    "#import алгоритма из библиотеки\n",
    "from sklearn.ensemble import RandomForestRegressor\n",
    "\n",
    "# инициализируем модель\n",
    "model = RandomForestRegressor(n_estimators=100, max_depth=3)\n",
    "\n",
    "# обучаем ее на тренировочных данных\n",
    "model.fit(X_train, y_train)\n",
    "\n",
    "# делаем предсказание для тестовых данных\n",
    "pred = model.predict(X_test)"
   ],
   "id": "a6ac20b1517f2486",
   "outputs": [],
   "execution_count": 100
  },
  {
   "metadata": {},
   "cell_type": "markdown",
   "source": "Смотрим на прогноз",
   "id": "6c971d06fba0c1f2"
  },
  {
   "metadata": {
    "ExecuteTime": {
     "end_time": "2024-09-02T08:05:18.320283Z",
     "start_time": "2024-09-02T08:05:18.318324Z"
    }
   },
   "cell_type": "code",
   "source": [
    "print('Предсказанные метки: ', pred[0:20], \".....\")\n",
    "print('Истинные метки: ', y_test[0:20], \".....\")"
   ],
   "id": "d06ee36431e6d5c1",
   "outputs": [
    {
     "name": "stdout",
     "output_type": "stream",
     "text": [
      "Предсказанные метки:  [ 941.61431331  969.48995398 1012.74418387  972.28961937  990.11686507\n",
      "  928.0749984   991.23614487  996.77604901 1031.99493847 1079.24412855\n",
      "  899.22139819  989.72278891 1072.39496496 1042.63775372  970.007287\n",
      "  935.59930115 1041.37338973 1042.56098443  935.91236219  964.70281027] .....\n",
      "Истинные метки:  [890, 1222, 1189, 867, 1287, 909, 919, 1154, 892, 1343, 702, 888, 1326, 914, 735, 925, 871, 1233, 780, 815] .....\n"
     ]
    }
   ],
   "execution_count": 101
  },
  {
   "metadata": {},
   "cell_type": "markdown",
   "source": "В среднем RMSE порядка 14% от среднего значения целевой переменной. Достаточно неплохо.",
   "id": "ae81d7fd9a734487"
  },
  {
   "metadata": {
    "ExecuteTime": {
     "end_time": "2024-09-02T08:05:19.844930Z",
     "start_time": "2024-09-02T08:05:19.842241Z"
    }
   },
   "cell_type": "code",
   "source": [
    "from sklearn.metrics import root_mean_squared_error\n",
    "import numpy as np\n",
    "\n",
    "rmse = root_mean_squared_error(y_test, pred)\n",
    "mean_test_value = np.mean(y_test)\n",
    "print('Rmse: ', rmse)\n",
    "print(f'Rmse %: {rmse / mean_test_value * 100:.2f}%')"
   ],
   "id": "f03249dc207c64cf",
   "outputs": [
    {
     "name": "stdout",
     "output_type": "stream",
     "text": [
      "Rmse:  143.85151422300945\n",
      "Rmse %: 14.40%\n"
     ]
    }
   ],
   "execution_count": 102
  },
  {
   "metadata": {},
   "cell_type": "markdown",
   "source": "В качестве визуализации выбрано первое дерево",
   "id": "9063dad5914933d3"
  },
  {
   "metadata": {
    "ExecuteTime": {
     "end_time": "2024-09-02T08:05:22.722688Z",
     "start_time": "2024-09-02T08:05:22.549408Z"
    }
   },
   "cell_type": "code",
   "source": [
    "from sklearn import tree\n",
    "import matplotlib.pyplot as plt\n",
    "\n",
    "fn = vectorizer.get_feature_names_out()\n",
    "plt.figure(figsize=(10, 10))\n",
    "tree.plot_tree(\n",
    "    model.estimators_[0],\n",
    "    feature_names=fn,\n",
    ");"
   ],
   "id": "f1d5d2f67f373b09",
   "outputs": [
    {
     "data": {
      "text/plain": [
       "<Figure size 1000x1000 with 1 Axes>"
      ],
      "image/png": "[encoded data removed]"
     },
     "metadata": {},
     "output_type": "display_data"
    }
   ],
   "execution_count": 103
  },
  {
   "metadata": {},
   "cell_type": "markdown",
   "source": "Как видно, в текущем дереве наиболее важный токен - \"сегодня\". Так же в дерево вошли локации (зандворт) и слова \"гонщик\", \"добиться\"",
   "id": "9f7ebd2febc4d47d"
  },
  {
   "metadata": {},
   "cell_type": "code",
   "outputs": [],
   "execution_count": null,
   "source": "",
   "id": "b38550814e9cc97a"
  }
 ],
 "metadata": {
  "kernelspec": {
   "display_name": "Python 3",
   "language": "python",
   "name": "python3"
  },
  "language_info": {
   "codemirror_mode": {
    "name": "ipython",
    "version": 2
   },
   "file_extension": ".py",
   "mimetype": "text/x-python",
   "name": "python",
   "nbconvert_exporter": "python",
   "pygments_lexer": "ipython2",
   "version": "2.7.6"
  }
 },
 "nbformat": 4,
 "nbformat_minor": 5
}
